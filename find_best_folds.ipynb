{
 "cells": [
  {
   "cell_type": "code",
   "execution_count": 1,
   "metadata": {
    "collapsed": false
   },
   "outputs": [
    {
     "name": "stdout",
     "output_type": "stream",
     "text": [
      "\u001b[34mkotek\u001b[m\n"
     ]
    }
   ],
   "source": [
    "% matplotlib inline\n",
    "import bidict\n",
    "import os\n",
    "import csv\n",
    "import scipy.sparse\n",
    "import numpy as np\n",
    "import random\n",
    "import matplotlib.pyplot as plt\n",
    "import load_data\n",
    "from blessings import Terminal\n",
    "term = Terminal()\n",
    "print term.blue('kotek')"
   ]
  },
  {
   "cell_type": "code",
   "execution_count": 4,
   "metadata": {
    "collapsed": true
   },
   "outputs": [],
   "source": [
    "def agnieszka_folds(all_compunds_file, folder_with_pairs):\n",
    "    possible_compounds = 'possible compounds'\n",
    "    pairs_contained = 'pairs contained'\n",
    "    probability = 'probability'\n",
    "    best_clustering = None\n",
    "    best_score = 10**9\n",
    "    scores = []\n",
    "    varianves = []\n",
    "    n_ommited_pairs = []\n",
    "    while(True): # many times\n",
    "        bin_sim, _, mapping_idx_chembl = load_data.load_similarity_matrices(all_compunds_file, folder_with_pairs)\n",
    "        bin_sim.setdiag(np.zeros((bin_sim.shape[0]))) # pairs (i,i) are not interesting for us\n",
    "        pairs = zip(bin_sim.nonzero()[0], bin_sim.nonzero()[1])\n",
    "                \n",
    "        random.shuffle(pairs)\n",
    "        clusters = [{possible_compounds:list(mapping_idx_chembl.keys()), pairs_contained:[]} for i in xrange(2)]\n",
    "        clusters[0][probability], clusters[1][probability] = (0.0, 0.9), (0.9, 1.0)\n",
    "        failures = 0\n",
    "        max_failures = len(pairs)\n",
    "#         rozwazonych_par = 0\n",
    "        try:\n",
    "            while failures < max_failures:\n",
    "                i, j = pairs.pop() # popping random pair\n",
    "#                 rozwazonych_par += 1\n",
    "#                 print term.green + 'rozwazam: (', i, j, ')'+term.normal\n",
    "                if i > j:\n",
    "#                     print term.green('odrzucilem')\n",
    "                    continue # saving time\n",
    "                \n",
    "                x = np.random.rand()\n",
    "#                 print term.blue(str(x))\n",
    "                for cluster in clusters:  # iterating over clusters to find the chosen one\n",
    "                    if cluster[probability][0] <= x < cluster[probability][1]:  # if the cluster was chosen\n",
    "#                         print term.green + 'found cluster with prob:', cluster[probability], term.normal\n",
    "                        # if pair might go inside\n",
    "                        if i in cluster[possible_compounds] and j in cluster[possible_compounds]:\n",
    "#                             print term.green('dorzucilem pare')\n",
    "                            failures = 0\n",
    "                            cluster[pairs_contained].append((i,j))\n",
    "                            \n",
    "                            # usun zwiazki i, j z mozliwych w kazdym klastrze poza obecnym\n",
    "                            for c in clusters:\n",
    "                                if i in c[possible_compounds]:\n",
    "                                    c[possible_compounds].remove(i)\n",
    "                                if j in c[possible_compounds]:\n",
    "                                    c[possible_compounds].remove(j)\n",
    "                            cluster[possible_compounds].extend([i, j])\n",
    "                        else: # the cluster was chosen but we cannot fit the pair there\n",
    "#                             print term.green('nie dorzucilem')\n",
    "                            failures += 1\n",
    "                            pairs.insert(0, (i, j)) # pair goes back to the poll\n",
    "                        break # we've found the chosen one\n",
    "#                 print term.green + 'failure is:', failures, term.normal\n",
    "                \n",
    "        except IndexError:  # zbior par jest pusty\n",
    "            print term.green('index error')\n",
    "            pass\n",
    "        finally:\n",
    "#             print term.red + 'liczba porazek', failures, term.normal\n",
    "            # wyszlismy z while'a, wiec albo mamy wpasowane wszystkie pary albo mielismy 100 porazek\n",
    "            omitted_pairs = len(pairs)\n",
    "            variance = np.var([float(len(cluster[pairs_contained]))/(cluster[probability][1]-cluster[probability][0])\n",
    "                               for cluster in clusters])\n",
    "            score = (5./8)*variance + omitted_pairs # chcemy niską wariancję i mało pominiętych par\n",
    "            \n",
    "#             print term.yellow + 'score:', score, '\\tvariance:', variance, '\\tomitted_pairs:', omitted_pairs, term.normal\n",
    "            # TODO: new score needed\n",
    "#             print 'rozwazonych_par', rozwazonych_par\n",
    "            print 'omitted_pairs', omitted_pairs\n",
    "            if score < best_score:\n",
    "                print '\\n'\n",
    "                \n",
    "                best_score = score\n",
    "                best_clustering = clusters\n",
    "                scores.append(best_score)\n",
    "                varianves.append(variance)\n",
    "                n_ommited_pairs.append(omitted_pairs)\n",
    "                plt.plot(range(len(scores)), scores, c='r')\n",
    "                plt.plot(range(len(varianves)), varianves, c='g')\n",
    "                plt.plot(range(len(n_ommited_pairs)), n_ommited_pairs, c='b')\n",
    "                plt.title('best score over time')\n",
    "                plt.show()\n",
    "                print best_clustering\n",
    "                print \"score\", score, 'variance', variance, 'omitted_pairs', omitted_pairs\n",
    "                print 'wielkości klastrów', [len(cluster[pairs_contained]) for cluster in clusters]\n",
    "                print 'pominietych par', omitted_pairs\n",
    "    \n",
    "            print '_________________________________________________\\n'\n",
    "    \n",
    "    return best_clustering"
   ]
  },
  {
   "cell_type": "code",
   "execution_count": null,
   "metadata": {
    "collapsed": false
   },
   "outputs": [],
   "source": [
    "best_clustering = agnieszka_folds('Random_compounds_100.sdf', 'pairs')"
   ]
  },
  {
   "cell_type": "code",
   "execution_count": null,
   "metadata": {
    "collapsed": true
   },
   "outputs": [],
   "source": [
    "def staszek_folds():\n",
    "    pass"
   ]
  },
  {
   "cell_type": "code",
   "execution_count": null,
   "metadata": {
    "collapsed": true
   },
   "outputs": [],
   "source": [
    "def clustering_score(clusters_sizes, n_omitted):\n",
    "    variance = some_function(clusters_sizes)\n",
    "    return 30*varince + n_omitted # TODO 30 - powinno byc wiecej, bo klastrow bedzie mniej"
   ]
  },
  {
   "cell_type": "code",
   "execution_count": null,
   "metadata": {
    "collapsed": false
   },
   "outputs": [],
   "source": [
    "best_clustering"
   ]
  },
  {
   "cell_type": "code",
   "execution_count": 4,
   "metadata": {
    "collapsed": false
   },
   "outputs": [
    {
     "data": {
      "text/plain": [
       "['__class__',\n",
       " '__delattr__',\n",
       " '__dict__',\n",
       " '__doc__',\n",
       " '__format__',\n",
       " '__getattr__',\n",
       " '__getattribute__',\n",
       " '__hash__',\n",
       " '__init__',\n",
       " '__module__',\n",
       " '__new__',\n",
       " '__reduce__',\n",
       " '__reduce_ex__',\n",
       " '__repr__',\n",
       " '__setattr__',\n",
       " '__sizeof__',\n",
       " '__str__',\n",
       " '__subclasshook__',\n",
       " '__weakref__',\n",
       " '_background_color',\n",
       " '_foreground_color',\n",
       " '_formatting_string',\n",
       " '_height_and_width',\n",
       " '_resolve_capability',\n",
       " '_resolve_color',\n",
       " '_resolve_formatter',\n",
       " '_sugar',\n",
       " 'color',\n",
       " 'does_styling',\n",
       " 'fullscreen',\n",
       " 'height',\n",
       " 'hidden_cursor',\n",
       " 'is_a_tty',\n",
       " 'location',\n",
       " 'number_of_colors',\n",
       " 'on_color',\n",
       " 'width']"
      ]
     },
     "execution_count": 4,
     "metadata": {},
     "output_type": "execute_result"
    }
   ],
   "source": [
    "dir(term)\n"
   ]
  },
  {
   "cell_type": "code",
   "execution_count": 7,
   "metadata": {
    "collapsed": false
   },
   "outputs": [
    {
     "name": "stdout",
     "output_type": "stream",
     "text": [
      "['__class__', '__delattr__', '__dict__', '__doc__', '__format__', '__getattr__', '__getattribute__', '__hash__', '__init__', '__module__', '__new__', '__reduce__', '__reduce_ex__', '__repr__', '__setattr__', '__sizeof__', '__str__', '__subclasshook__', '__weakref__', '_background_color', '_does_styling', '_foreground_color', '_formatting_string', '_height_and_width', '_init_descriptor', '_is_a_tty', '_resolve_capability', '_resolve_color', '_resolve_formatter', '_sugar', 'color', 'does_styling', 'fullscreen', 'height', 'hidden_cursor', 'is_a_tty', 'location', 'number_of_colors', 'on_color', 'stream', 'width']\n",
      "\u001b[34m384\u001b[m\n"
     ]
    }
   ],
   "source": [
    "from blessings import Terminal as T\n",
    "t = T()\n",
    "print dir(t)\n",
    "print t.blue(str(384))"
   ]
  },
  {
   "cell_type": "code",
   "execution_count": null,
   "metadata": {
    "collapsed": true
   },
   "outputs": [],
   "source": []
  }
 ],
 "metadata": {
  "kernelspec": {
   "display_name": "Python 2",
   "language": "python",
   "name": "python2"
  },
  "language_info": {
   "codemirror_mode": {
    "name": "ipython",
    "version": 2
   },
   "file_extension": ".py",
   "mimetype": "text/x-python",
   "name": "python",
   "nbconvert_exporter": "python",
   "pygments_lexer": "ipython2",
   "version": "2.7.11"
  }
 },
 "nbformat": 4,
 "nbformat_minor": 0
}
