{
 "cells": [
  {
   "cell_type": "code",
   "execution_count": 1,
   "metadata": {
    "collapsed": false
   },
   "outputs": [
    {
     "ename": "SyntaxError",
     "evalue": "invalid syntax (<ipython-input-1-61ac3c9a200c>, line 1)",
     "output_type": "error",
     "traceback": [
      "\u001b[0;36m  File \u001b[0;32m\"<ipython-input-1-61ac3c9a200c>\"\u001b[0;36m, line \u001b[0;32m1\u001b[0m\n\u001b[0;31m    from drgmum.chemdata.chembl.sqlite_queries import\u001b[0m\n\u001b[0m                                                      ^\u001b[0m\n\u001b[0;31mSyntaxError\u001b[0m\u001b[0;31m:\u001b[0m invalid syntax\n"
     ]
    }
   ],
   "source": [
    "from drgmum.chemdata.chembl.sqlite_queries import \n",
    "\n",
    "\n",
    "# from mol2vec.training_data.datasets import CVBaseChemDataset, BaseChemDataset\n",
    "# compound_file = {'5-HT1a': '5-HT1A_clustered.dat', '5-HT1b': '5-HT1B_clustered.dat', '5-HT2a': '5-HT2A_clustered.dat',\n",
    "#     '5-HT2b': '5-HT2B_clustered.dat', '5-HT6': '5-HT6_clustered.dat', '5-HT7': '5-HT7_clustered.dat',\n",
    "#     'H1': 'H1_clustered.dat', #     'M2': 'M2_clustered.dat', # this one has inconsistent data\n",
    "#     'SERT': 'SERT_clustered.dat', #     'abl': 'abl_clustered.dat',  # this one has inconsistent data\n",
    "#     'beta2': 'beta2_clustered.dat', 'cdk2': 'cdk2_clustered.dat', 'gly': 'gly_clustered.dat', 'lck': 'lck_clustered.dat',\n",
    "#     'mGluR3': 'mGluR3_clustered.dat', 'mGluR8': 'mGluR8_clustered.dat','src': 'src_clustered.dat'\n",
    "# }\n",
    "\n",
    "data = BaseChemDataset(representation=\"MACCS\", compound=compound_file[1], valid_size=0.0)\n",
    "(X_train, y_train), _ = data.get_data()"
   ]
  },
  {
   "cell_type": "code",
   "execution_count": null,
   "metadata": {
    "collapsed": false
   },
   "outputs": [],
   "source": [
    "import sys\n",
    "for path in sys.path:\n",
    "    print path"
   ]
  },
  {
   "cell_type": "code",
   "execution_count": null,
   "metadata": {
    "collapsed": true
   },
   "outputs": [],
   "source": []
  }
 ],
 "metadata": {
  "anaconda-cloud": {},
  "kernelspec": {
   "display_name": "Python [default]",
   "language": "python",
   "name": "python2"
  },
  "language_info": {
   "codemirror_mode": {
    "name": "ipython",
    "version": 2
   },
   "file_extension": ".py",
   "mimetype": "text/x-python",
   "name": "python",
   "nbconvert_exporter": "python",
   "pygments_lexer": "ipython2",
   "version": "2.7.12"
  }
 },
 "nbformat": 4,
 "nbformat_minor": 0
}
