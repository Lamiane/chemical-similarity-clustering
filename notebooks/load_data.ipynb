{
 "cells": [
  {
   "cell_type": "code",
   "execution_count": 2,
   "metadata": {
    "collapsed": false
   },
   "outputs": [
    {
     "name": "stderr",
     "output_type": "stream",
     "text": [
      "/home/nex/Libraries/anaconda/lib/python2.7/site-packages/sklearn/cross_validation.py:44: DeprecationWarning: This module was deprecated in version 0.18 in favor of the model_selection module into which all the refactored classes and functions are moved. Also note that the interface of the new CV iterators are different from that of this module. This module will be removed in 0.20.\n",
      "  \"This module will be removed in 0.20.\", DeprecationWarning)\n"
     ]
    },
    {
     "ename": "KeyError",
     "evalue": "1",
     "output_type": "error",
     "traceback": [
      "\u001b[1;31m---------------------------------------------------------------------------\u001b[0m",
      "\u001b[1;31mKeyError\u001b[0m                                  Traceback (most recent call last)",
      "\u001b[1;32m<ipython-input-2-faf6ccfad573>\u001b[0m in \u001b[0;36m<module>\u001b[1;34m()\u001b[0m\n\u001b[0;32m      8\u001b[0m }\n\u001b[0;32m      9\u001b[0m \u001b[1;33m\u001b[0m\u001b[0m\n\u001b[1;32m---> 10\u001b[1;33m \u001b[0mdata\u001b[0m \u001b[1;33m=\u001b[0m \u001b[0mBaseChemDataset\u001b[0m\u001b[1;33m(\u001b[0m\u001b[0mrepresentation\u001b[0m\u001b[1;33m=\u001b[0m\u001b[1;34m\"MACCS\"\u001b[0m\u001b[1;33m,\u001b[0m \u001b[0mcompound\u001b[0m\u001b[1;33m=\u001b[0m\u001b[0mcompound_file\u001b[0m\u001b[1;33m[\u001b[0m\u001b[1;36m1\u001b[0m\u001b[1;33m]\u001b[0m\u001b[1;33m,\u001b[0m \u001b[0mvalid_size\u001b[0m\u001b[1;33m=\u001b[0m\u001b[1;36m0.0\u001b[0m\u001b[1;33m)\u001b[0m\u001b[1;33m\u001b[0m\u001b[0m\n\u001b[0m\u001b[0;32m     11\u001b[0m \u001b[1;33m(\u001b[0m\u001b[0mX_train\u001b[0m\u001b[1;33m,\u001b[0m \u001b[0my_train\u001b[0m\u001b[1;33m)\u001b[0m\u001b[1;33m,\u001b[0m \u001b[0m_\u001b[0m \u001b[1;33m=\u001b[0m \u001b[0mdata\u001b[0m\u001b[1;33m.\u001b[0m\u001b[0mget_data\u001b[0m\u001b[1;33m(\u001b[0m\u001b[1;33m)\u001b[0m\u001b[1;33m\u001b[0m\u001b[0m\n",
      "\u001b[1;31mKeyError\u001b[0m: 1"
     ]
    }
   ],
   "source": [
    "from drgmum.chemdata.chembl.sqlite_queries import \n",
    "\n",
    "\n",
    "# from mol2vec.training_data.datasets import CVBaseChemDataset, BaseChemDataset\n",
    "# compound_file = {'5-HT1a': '5-HT1A_clustered.dat', '5-HT1b': '5-HT1B_clustered.dat', '5-HT2a': '5-HT2A_clustered.dat',\n",
    "#     '5-HT2b': '5-HT2B_clustered.dat', '5-HT6': '5-HT6_clustered.dat', '5-HT7': '5-HT7_clustered.dat',\n",
    "#     'H1': 'H1_clustered.dat', #     'M2': 'M2_clustered.dat', # this one has inconsistent data\n",
    "#     'SERT': 'SERT_clustered.dat', #     'abl': 'abl_clustered.dat',  # this one has inconsistent data\n",
    "#     'beta2': 'beta2_clustered.dat', 'cdk2': 'cdk2_clustered.dat', 'gly': 'gly_clustered.dat', 'lck': 'lck_clustered.dat',\n",
    "#     'mGluR3': 'mGluR3_clustered.dat', 'mGluR8': 'mGluR8_clustered.dat','src': 'src_clustered.dat'\n",
    "# }\n",
    "\n",
    "data = BaseChemDataset(representation=\"MACCS\", compound=compound_file[1], valid_size=0.0)\n",
    "(X_train, y_train), _ = data.get_data()"
   ]
  },
  {
   "cell_type": "code",
   "execution_count": 1,
   "metadata": {
    "collapsed": false
   },
   "outputs": [
    {
     "name": "stdout",
     "output_type": "stream",
     "text": [
      "\n",
      "/home/nex/Dropbox/ujDOK1/alpy\n",
      "/home/nex/Libraries/pylearn2\n",
      "/home/nex/Libraries/anaconda/lib/python2.7/site-packages/argparse-1.4.0-py2.7.egg\n",
      "/home/nex/Libraries/anaconda/lib/python2.7/site-packages/Keras-1.0.3-py2.7.egg\n",
      "/home/nex/Dropbox/ujDOK1/SCFP/2016-kwie-pub\n",
      "/home/nex/Aplikacje/Pylearn\n",
      "/home/nex/libraries/Jobman\n",
      "/home/nex/Dropbox/ujDOK1/SCFP/mol2vec\n",
      "/home/nex/Dropbox/ujDOK1/SCFP/mol2vec/mol2vec\n",
      "/home/nex/Dropbox (GMUM)/ujDOK1/2DSIFt\n",
      "/home/nex/Dropbox (GMUM)/ujDOK1/2DSIFt/2DSIFtCNNkod\n",
      "/home/nex/Dropbox/ujDOK1/dr.gmum\n",
      "/home/nex/scripts\n",
      "/home/nex/Libraries/anaconda/lib/python27.zip\n",
      "/home/nex/Libraries/anaconda/lib/python2.7\n",
      "/home/nex/Libraries/anaconda/lib/python2.7/plat-linux2\n",
      "/home/nex/Libraries/anaconda/lib/python2.7/lib-tk\n",
      "/home/nex/Libraries/anaconda/lib/python2.7/lib-old\n",
      "/home/nex/Libraries/anaconda/lib/python2.7/lib-dynload\n",
      "/home/nex/Libraries/anaconda/lib/python2.7/site-packages/Sphinx-1.4.1-py2.7.egg\n",
      "/home/nex/Libraries/anaconda/lib/python2.7/site-packages\n",
      "/home/nex/Libraries/anaconda/lib/python2.7/site-packages/Orange/orng\n",
      "/home/nex/Libraries/anaconda/lib/python2.7/site-packages/PIL\n",
      "/home/nex/Libraries/anaconda/lib/python2.7/site-packages/IPython/extensions\n",
      "/home/nex/.ipython\n"
     ]
    }
   ],
   "source": [
    "import sys\n",
    "for path in sys.path:\n",
    "    print path"
   ]
  },
  {
   "cell_type": "code",
   "execution_count": null,
   "metadata": {
    "collapsed": true
   },
   "outputs": [],
   "source": []
  }
 ],
 "metadata": {
  "anaconda-cloud": {},
  "kernelspec": {
   "display_name": "Python [default]",
   "language": "python",
   "name": "python2"
  },
  "language_info": {
   "codemirror_mode": {
    "name": "ipython",
    "version": 2
   },
   "file_extension": ".py",
   "mimetype": "text/x-python",
   "name": "python",
   "nbconvert_exporter": "python",
   "pygments_lexer": "ipython2",
   "version": "2.7.12"
  }
 },
 "nbformat": 4,
 "nbformat_minor": 0
}
