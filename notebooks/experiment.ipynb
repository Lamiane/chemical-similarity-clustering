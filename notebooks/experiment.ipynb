{
 "cells": [
  {
   "cell_type": "code",
   "execution_count": null,
   "metadata": {
    "collapsed": false
   },
   "outputs": [],
   "source": [
    "from tqdm import tqdm\n",
    "for hyps in hiperparameters:\n",
    "    print str(hyps)\n",
    "    ratios = []\n",
    "    for i in xrange(1000):\n",
    "        model = KMeans(**hyps)\n",
    "        model.fit(X)\n",
    "        preds = model.predict(X)\n",
    "        ratios.append(float(sum(preds))/len(preds))\n",
    "    print np.mean(ratios), np.var(ratios)\n",
    "    print '\\n'"
   ]
  },
  {
   "cell_type": "markdown",
   "metadata": {},
   "source": [
    "### dlaczego te liczby się rozjeżdżają?\n",
    "\n",
    "#### pierwszy przebieg (1000 razy)\n",
    "{'algorithm': 'full', 'init': 'k-means++', 'n_init': 1, 'n_clusters': 2}\n",
    "**0.31833 0.1367219111**\n",
    "\n",
    "\n",
    "{'algorithm': 'elkan', 'init': 'k-means++', 'n_init': 1, 'n_clusters': 2}\n",
    "**0.33501 0.1411845999**\n",
    "\n",
    "\n",
    "{'algorithm': 'full', 'init': 'random', 'n_init': 1, 'n_clusters': 2}\n",
    "**0.50023 0.1078772471**\n",
    "\n",
    "\n",
    "{'algorithm': 'elkan', 'init': 'random', 'n_init': 1, 'n_clusters': 2}\n",
    "**0.49303 0.1058457191**\n",
    "\n",
    "#### drugi przebieg (1000 razy)\n",
    "{'algorithm': 'full', 'init': 'k-means++', 'n_init': 1, 'n_clusters': 2}\n",
    "**0.33225 0.1427258375**\n",
    "\n",
    "\n",
    "{'algorithm': 'elkan', 'init': 'k-means++', 'n_init': 1, 'n_clusters': 2}\n",
    "**0.33991 0.1468492919**\n",
    "\n",
    "\n",
    "{'algorithm': 'full', 'init': 'random', 'n_init': 1, 'n_clusters': 2}\n",
    "**0.49457 0.1081268151**\n",
    "\n",
    "\n",
    "{'algorithm': 'elkan', 'init': 'random', 'n_init': 1, 'n_clusters': 2}\n",
    "**0.51416 0.1088140944**\n",
    "\n",
    "\n"
   ]
  },
  {
   "cell_type": "code",
   "execution_count": null,
   "metadata": {
    "collapsed": true
   },
   "outputs": [],
   "source": []
  }
 ],
 "metadata": {
  "anaconda-cloud": {},
  "kernelspec": {
   "display_name": "Python [conda root]",
   "language": "python",
   "name": "conda-root-py"
  },
  "language_info": {
   "codemirror_mode": {
    "name": "ipython",
    "version": 2
   },
   "file_extension": ".py",
   "mimetype": "text/x-python",
   "name": "python",
   "nbconvert_exporter": "python",
   "pygments_lexer": "ipython2",
   "version": "2.7.12"
  }
 },
 "nbformat": 4,
 "nbformat_minor": 1
}
