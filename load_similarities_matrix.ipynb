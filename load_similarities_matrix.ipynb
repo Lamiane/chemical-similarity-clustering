{
 "cells": [
  {
   "cell_type": "code",
   "execution_count": 1,
   "metadata": {
    "collapsed": true
   },
   "outputs": [],
   "source": [
    "import bidict\n",
    "import os\n",
    "import csv\n",
    "import scipy.sparse\n",
    "import numpy as np"
   ]
  },
  {
   "cell_type": "code",
   "execution_count": 2,
   "metadata": {
    "collapsed": true
   },
   "outputs": [],
   "source": [
    "def get_chembls(filename):\n",
    "    result = []\n",
    "    first_line = True\n",
    "    with open(filename, 'r') as f:\n",
    "        for line in f:\n",
    "            if first_line:\n",
    "                assert 'CHEMBL' in line\n",
    "                result.append(line.strip())\n",
    "                first_line = False\n",
    "            elif '$$$$' in line:\n",
    "                first_line=True\n",
    "    return result"
   ]
  },
  {
   "cell_type": "code",
   "execution_count": 3,
   "metadata": {
    "collapsed": false
   },
   "outputs": [],
   "source": [
    "def get_mapping(all_compounds_file):\n",
    "    mapping = bidict.bidict()\n",
    "    all_chembls = get_chembls(all_compounds_file)        \n",
    "    mapping.update(dict(zip(xrange(len(all_chembls)), all_chembls)))\n",
    "\n",
    "    return mapping"
   ]
  },
  {
   "cell_type": "code",
   "execution_count": 4,
   "metadata": {
    "collapsed": false
   },
   "outputs": [],
   "source": [
    "def get_all_files(path):\n",
    "    return [os.path.join(path,filename) for filename in os.listdir(path) if os.path.isfile(os.path.join(path, filename))]"
   ]
  },
  {
   "cell_type": "code",
   "execution_count": 25,
   "metadata": {
    "collapsed": false
   },
   "outputs": [
    {
     "ename": "SyntaxError",
     "evalue": "EOL while scanning string literal (<ipython-input-25-3d611574466d>, line 26)",
     "output_type": "error",
     "traceback": [
      "\u001b[1;36m  File \u001b[1;32m\"<ipython-input-25-3d611574466d>\"\u001b[1;36m, line \u001b[1;32m26\u001b[0m\n\u001b[1;33m    print 'tutaj tuaja\", key, another_key\u001b[0m\n\u001b[1;37m                                        ^\u001b[0m\n\u001b[1;31mSyntaxError\u001b[0m\u001b[1;31m:\u001b[0m EOL while scanning string literal\n"
     ]
    }
   ],
   "source": [
    "def load_similarity_matrices():\n",
    "    bin_similarity = []\n",
    "    scale_similarity = []\n",
    "    row_ind = []\n",
    "    col_ind = []\n",
    "    \n",
    "    mapping_idx_chembl = get_mapping('Random_compounds_100.sdf')\n",
    "    n_compunds = len(mapping_idx_chembl)\n",
    "    dict_idx_chemblchembl = \\\n",
    "    dict( [ [int(''.join(c for c in filename if c.isdigit() )), tuple(get_chembls(filename))] \\\n",
    "          for filename in get_all_files('pairs') ] )\n",
    "    \n",
    "    print len(dict_idx_chemblchembl), 'liczba par'\n",
    "    \n",
    "    # czy pary są unikalne?\n",
    "    ile = 0\n",
    "    non_unique = {}\n",
    "    print 'chembl, chembl, numer pary, numer innej pary'\n",
    "    for key in sorted(dict_idx_chemblchembl.keys()):\n",
    "        i, j = dict_idx_chemblchembl[key]\n",
    "        for another_key in sorted(dict_idx_chemblchembl.keys()):\n",
    "            if i in dict_idx_chemblchembl[another_key] and j in dict_idx_chemblchembl[another_key]:\n",
    "                if key != another_key:\n",
    "                    print i, j, key, another_key\n",
    "                    dict_key = min(key, another_key)\n",
    "                    dict_value =[max(key, another_key)]\n",
    "                    if dict_value == None:\n",
    "                        print 'tutaj tuaja', key, another_key\n",
    "                    if dict_key not in non_unique.keys():\n",
    "                        non_unique[dict_key] = dict_value\n",
    "                    else:\n",
    "                        if non_unique[dict_key] is None:\n",
    "                            print non_unique\n",
    "                            print dict_key\n",
    "                            break\n",
    "                        non_unique[dict_key] = non_unique[dict_key].extend(dict_value)\n",
    "                    ile +=1\n",
    "    print 'liczba alertów', ile\n",
    "    print non_unique\n",
    "    print non_unique.values()\n",
    "    \n",
    "    with open('Similarity.csv', 'r') as csvfile:\n",
    "        for pair_number, bin_sim, scale_sim in csv.reader(csvfile, delimiter=','):\n",
    "            chembl_i, chembl_j = dict_idx_chemblchembl[int(pair_number)]\n",
    "            chembl_i_idx, chembl_j_idx = mapping_idx_chembl.inv[chembl_i], mapping_idx_chembl.inv[chembl_j]\n",
    "            row_ind.extend([chembl_i_idx, chembl_j_idx])\n",
    "            col_ind.extend([chembl_j_idx, chembl_i_idx])\n",
    "            bin_similarity.extend([int(bin_sim), int(bin_sim)])\n",
    "            scale_similarity.extend([int(scale_sim), int(scale_sim)])\n",
    "    \n",
    "    assert len(dict_idx_chemblchembl)*2 == len(bin_similarity)\n",
    "    assert len(bin_similarity)==len(scale_similarity)\n",
    "    assert len(scale_similarity)==len(row_ind)\n",
    "    assert len(row_ind)==len(col_ind)\n",
    "    \n",
    "    print len(row_ind)\n",
    "     \n",
    "    # we want bin similarities to be -1, 1 not 0, 1\n",
    "    bin_similarity = [(-1)**(1-x) for x in bin_similarity]\n",
    "    assert 0 not in scale_similarity\n",
    "    assert 0 not in bin_similarity\n",
    "    \n",
    "    scale_similarity = scipy.sparse.csr_matrix((scale_similarity, (row_ind, col_ind)), shape=(n_compunds, n_compunds))\n",
    "    bin_similarity   = scipy.sparse.csr_matrix((bin_similarity,   (row_ind, col_ind)), shape=(n_compunds, n_compunds))\n",
    "    \n",
    "    assert scale_similarity.nnz == len(row_ind)\n",
    "    assert bin_similarity.nnz == len(row_ind) \n",
    "    \n",
    "    assert np.all(scale_similarity.todense() == np.transpose(scale_similarity.todense()))\n",
    "    assert scale_similarity.shape == (n_compunds, n_compunds)\n",
    "    assert np.all(bin_similarity.todense() == np.transpose(bin_similarity.todense()))\n",
    "    assert bin_similarity.shape == (n_compunds, n_compunds)\n",
    "    \n",
    "    assert scale_similarity.nnz == bin_similarity.nnz\n",
    "    assert np.all(scale_similarity.indices == bin_similarity.indices)\n",
    "    #print scale_similarity.nonzero() == bin_similarity.nonzero()\n",
    "    \n",
    "    return bin_similarity, scale_similarity, mapping_idx_chembl"
   ]
  },
  {
   "cell_type": "code",
   "execution_count": 24,
   "metadata": {
    "collapsed": false
   },
   "outputs": [
    {
     "name": "stdout",
     "output_type": "stream",
     "text": [
      "450 liczba par\n",
      "chembl, chembl, numer pary, numer innej pary\n",
      "CHEMBL426317 CHEMBL2397911 11 267\n",
      "CHEMBL12314 CHEMBL14563 16 201\n",
      "CHEMBL1255837 CHEMBL76307 25 29\n",
      "CHEMBL1255837 CHEMBL76307 29 25\n",
      "CHEMBL289436 CHEMBL364534 38 242\n",
      "CHEMBL41389 CHEMBL41792 60 417\n",
      "CHEMBL14841 CHEMBL472789 94 416\n",
      "CHEMBL289436 CHEMBL598443 105 257\n",
      "CHEMBL88894 CHEMBL475778 124 224\n",
      "CHEMBL2397911 CHEMBL14374 165 441\n",
      "CHEMBL2087337 CHEMBL598443 167 316\n",
      "CHEMBL2087337 CHEMBL598443 167 411\n",
      "CHEMBL472986 CHEMBL220900 195 391\n",
      "CHEMBL201930 CHEMBL55914 198 314\n",
      "CHEMBL12314 CHEMBL14563 201 16\n",
      "CHEMBL223468 CHEMBL2397893 212 293\n",
      "CHEMBL14076 CHEMBL209324 215 269\n",
      "CHEMBL88894 CHEMBL475778 224 124\n",
      "CHEMBL364534 CHEMBL289436 242 38\n",
      "CHEMBL209324 CHEMBL19215 252 271\n",
      "CHEMBL289436 CHEMBL598443 257 105\n",
      "CHEMBL426317 CHEMBL2397911 267 11\n",
      "CHEMBL14076 CHEMBL209324 269 215\n",
      "CHEMBL19215 CHEMBL209324 271 252\n",
      "CHEMBL12314 CHEMBL1255837 274 318\n",
      "CHEMBL215468 CHEMBL263881 289 320\n",
      "CHEMBL2397893 CHEMBL223468 293 212\n",
      "CHEMBL220900 CHEMBL41792 301 390\n",
      "CHEMBL201930 CHEMBL55914 314 198\n",
      "CHEMBL598443 CHEMBL2087337 316 167\n",
      "{198: None, 289: [320], 195: [391], 165: [441], 38: None, 167: None, 105: None, 11: None, 301: [390], 16: None, 124: None, 274: [318], 212: None, 252: None, 215: None, 25: None, 60: [417], 94: [416]}\n",
      "167\n",
      "CHEMBL12314 CHEMBL1255837 318 274\n",
      "CHEMBL215468 CHEMBL263881 320 289\n",
      "CHEMBL2165126 CHEMBL2392349 362 427\n",
      "CHEMBL41792 CHEMBL220900 390 301\n",
      "CHEMBL220900 CHEMBL472986 391 195\n",
      "CHEMBL2087337 CHEMBL598443 411 167\n",
      "{198: None, 289: None, 195: None, 165: [441], 38: None, 167: None, 105: None, 362: [427], 11: None, 301: None, 16: None, 124: None, 274: None, 212: None, 252: None, 215: None, 25: None, 60: [417], 94: [416]}\n",
      "167\n",
      "CHEMBL728 CHEMBL475407 413 418\n",
      "CHEMBL14841 CHEMBL472789 416 94\n",
      "CHEMBL41792 CHEMBL41389 417 60\n",
      "CHEMBL475407 CHEMBL728 418 413\n",
      "CHEMBL2165126 CHEMBL2392349 427 362\n",
      "CHEMBL2397911 CHEMBL14374 441 165\n",
      "liczba alertów 40\n",
      "{198: None, 289: None, 195: None, 165: None, 38: None, 167: None, 105: None, 362: None, 11: None, 301: None, 16: None, 124: None, 274: None, 212: None, 252: None, 215: None, 25: None, 60: None, 413: None, 94: None}\n",
      "[None, None, None, None, None, None, None, None, None, None, None, None, None, None, None, None, None, None, None, None]\n",
      "900\n"
     ]
    },
    {
     "ename": "AssertionError",
     "evalue": "",
     "output_type": "error",
     "traceback": [
      "\u001b[1;31m---------------------------------------------------------------------------\u001b[0m",
      "\u001b[1;31mAssertionError\u001b[0m                            Traceback (most recent call last)",
      "\u001b[1;32m<ipython-input-24-8fe0e7a8e1e2>\u001b[0m in \u001b[0;36m<module>\u001b[1;34m()\u001b[0m\n\u001b[1;32m----> 1\u001b[1;33m \u001b[0mbin_sim\u001b[0m\u001b[1;33m,\u001b[0m \u001b[0mscale_sim\u001b[0m\u001b[1;33m,\u001b[0m \u001b[0mmapping_idx_chembl\u001b[0m \u001b[1;33m=\u001b[0m \u001b[0mload_similarity_matrices\u001b[0m\u001b[1;33m(\u001b[0m\u001b[1;33m)\u001b[0m\u001b[1;33m\u001b[0m\u001b[0m\n\u001b[0m",
      "\u001b[1;32m<ipython-input-23-ed3c702a1452>\u001b[0m in \u001b[0;36mload_similarity_matrices\u001b[1;34m()\u001b[0m\n\u001b[0;32m     62\u001b[0m     \u001b[0mbin_similarity\u001b[0m   \u001b[1;33m=\u001b[0m \u001b[0mscipy\u001b[0m\u001b[1;33m.\u001b[0m\u001b[0msparse\u001b[0m\u001b[1;33m.\u001b[0m\u001b[0mcsr_matrix\u001b[0m\u001b[1;33m(\u001b[0m\u001b[1;33m(\u001b[0m\u001b[0mbin_similarity\u001b[0m\u001b[1;33m,\u001b[0m   \u001b[1;33m(\u001b[0m\u001b[0mrow_ind\u001b[0m\u001b[1;33m,\u001b[0m \u001b[0mcol_ind\u001b[0m\u001b[1;33m)\u001b[0m\u001b[1;33m)\u001b[0m\u001b[1;33m,\u001b[0m \u001b[0mshape\u001b[0m\u001b[1;33m=\u001b[0m\u001b[1;33m(\u001b[0m\u001b[0mn_compunds\u001b[0m\u001b[1;33m,\u001b[0m \u001b[0mn_compunds\u001b[0m\u001b[1;33m)\u001b[0m\u001b[1;33m)\u001b[0m\u001b[1;33m\u001b[0m\u001b[0m\n\u001b[0;32m     63\u001b[0m \u001b[1;33m\u001b[0m\u001b[0m\n\u001b[1;32m---> 64\u001b[1;33m     \u001b[1;32massert\u001b[0m \u001b[0mscale_similarity\u001b[0m\u001b[1;33m.\u001b[0m\u001b[0mnnz\u001b[0m \u001b[1;33m==\u001b[0m \u001b[0mlen\u001b[0m\u001b[1;33m(\u001b[0m\u001b[0mrow_ind\u001b[0m\u001b[1;33m)\u001b[0m\u001b[1;33m\u001b[0m\u001b[0m\n\u001b[0m\u001b[0;32m     65\u001b[0m     \u001b[1;32massert\u001b[0m \u001b[0mbin_similarity\u001b[0m\u001b[1;33m.\u001b[0m\u001b[0mnnz\u001b[0m \u001b[1;33m==\u001b[0m \u001b[0mlen\u001b[0m\u001b[1;33m(\u001b[0m\u001b[0mrow_ind\u001b[0m\u001b[1;33m)\u001b[0m\u001b[1;33m\u001b[0m\u001b[0m\n\u001b[0;32m     66\u001b[0m \u001b[1;33m\u001b[0m\u001b[0m\n",
      "\u001b[1;31mAssertionError\u001b[0m: "
     ]
    }
   ],
   "source": [
    "bin_sim, scale_sim, mapping_idx_chembl = load_similarity_matrices()"
   ]
  },
  {
   "cell_type": "code",
   "execution_count": null,
   "metadata": {
    "collapsed": false
   },
   "outputs": [],
   "source": [
    "print bin_sim.nonzero() == scale_sim.nonzero()"
   ]
  },
  {
   "cell_type": "code",
   "execution_count": null,
   "metadata": {
    "collapsed": false
   },
   "outputs": [],
   "source": [
    "print bin_sim.nnz\n",
    "print scale_sim.nnz\n",
    "\n",
    "a, b = bin_sim.nonzero()[0], bin_sim.nonzero()[1]\n",
    "c, d = scale_sim.nonzero()[0], scale_sim.nonzero()[1]\n",
    "\n",
    "print a.shape, c.shape\n",
    "print b.shape, d.shape"
   ]
  },
  {
   "cell_type": "code",
   "execution_count": null,
   "metadata": {
    "collapsed": false
   },
   "outputs": [],
   "source": [
    "print len(get_mapping('pairs'))"
   ]
  },
  {
   "cell_type": "code",
   "execution_count": null,
   "metadata": {
    "collapsed": false
   },
   "outputs": [],
   "source": [
    "print get_chembls('pairs/Random_pair11.sdf')\n",
    "print get_chembls('pairs/Random_pair267.sdf')"
   ]
  },
  {
   "cell_type": "code",
   "execution_count": null,
   "metadata": {
    "collapsed": true
   },
   "outputs": [],
   "source": []
  }
 ],
 "metadata": {
  "kernelspec": {
   "display_name": "Python 2",
   "language": "python",
   "name": "python2"
  },
  "language_info": {
   "codemirror_mode": {
    "name": "ipython",
    "version": 2
   },
   "file_extension": ".py",
   "mimetype": "text/x-python",
   "name": "python",
   "nbconvert_exporter": "python",
   "pygments_lexer": "ipython2",
   "version": "2.7.11"
  }
 },
 "nbformat": 4,
 "nbformat_minor": 0
}
