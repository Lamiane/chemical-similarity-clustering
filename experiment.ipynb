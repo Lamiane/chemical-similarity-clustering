{
 "cells": [
  {
   "cell_type": "code",
   "execution_count": 1,
   "metadata": {
    "collapsed": false
   },
   "outputs": [],
   "source": [
    "# imports\n",
    "import drgmum\n",
    "from drgmum.toolkit.dataset import SmartDataset\n",
    "from drgmum.chemdata.fingerprints import molprint2d_count_fingerprinter\n",
    "from drgmum.chemdata.chembl.sqlite_queries import get_smiles\n",
    "from drgmum.chemdata.utils.pandas_utils import two_level_series_to_csr\n",
    "import logging\n",
    "logging.basicConfig()\n",
    "import os\n",
    "data_folder = '/var/data/users/local/pocha/data'\n",
    "chembl21db = os.path.join(data_folder, 'DRGMUM/chembl_21.db')\n",
    "chembl_ids_file = os.path.join(data_folder, 'SCFP/Random_compounds_100.sdf')\n",
    "similarity_matrix_file = os.path.join(data_folder, 'SCFP/Similarity150Dawid.csv')\n",
    "folder_with_pairs = os.path.join(data_folder, 'SCFP/pairs')\n",
    "from load_constraints import get_chembls, load_similarity_matrices, get_mapping\n",
    "from sklearn.base import BaseEstimator, ClusterMixin\n",
    "from sklearn.cluster import KMeans\n",
    "from sklearn.utils.estimator_checks import check_estimator\n",
    "from sklearn.model_selection import train_test_split\n",
    "random_state = 666\n",
    "from bidict import bidict\n",
    "import numpy as np"
   ]
  },
  {
   "cell_type": "code",
   "execution_count": 2,
   "metadata": {
    "collapsed": false
   },
   "outputs": [
    {
     "name": "stderr",
     "output_type": "stream",
     "text": [
      "INFO:drgmum.chemdata.chembl.sqlite_queries:Extracting SMILES from the database...\n",
      "INFO:drgmum.chemdata.chembl.sqlite_queries:Done\n",
      "INFO:drgmum.chemdata.fingerprints._openbabel:Processing 100 SMILES...\n",
      "100it [00:00, 217772.79it/s]\n",
      "645it [00:00, 347907.16it/s]\n",
      "100%|██████████| 2144/2144 [00:00<00:00, 189533.11it/s]"
     ]
    },
    {
     "name": "stdout",
     "output_type": "stream",
     "text": [
      "21 pairs were omitted\n"
     ]
    },
    {
     "name": "stderr",
     "output_type": "stream",
     "text": [
      "\n",
      "/home/pocha/libs/anaconda2/lib/python2.7/site-packages/scipy/sparse/compressed.py:730: SparseEfficiencyWarning: Changing the sparsity structure of a csr_matrix is expensive. lil_matrix is more efficient.\n",
      "  SparseEfficiencyWarning)\n"
     ]
    }
   ],
   "source": [
    "# load data\n",
    "\n",
    "# 1. load chembl IDs\n",
    "chembl_ids = get_chembls(chembl_ids_file)\n",
    "smiles = get_smiles(chembl21db, chembl_ids)\n",
    "\n",
    "# 2. load fingerprints\n",
    "a = molprint2d_count_fingerprinter(smiles) # nieważne\n",
    "sprase_fp, row_labels, col_labels = two_level_series_to_csr(a)\n",
    "\n",
    "# 3. load constraints\n",
    "bin_sim, scale_sim, mapping_idx_chembl = load_similarity_matrices(similarity_matrix_file, chembl_ids_file, folder_with_pairs)\n",
    "bin_sim_list = zip(zip(*bin_sim.nonzero()), bin_sim.data)\n",
    "scale_sim_list = zip(zip(*scale_sim.nonzero()), scale_sim.data)\n",
    "\n",
    "# 4. remove contraints that are duplicate (sim(x,y)=sim(y,x)) or\n",
    "bin_sim_list = [x for x in bin_sim_list if x[0][0]<x[0][1]]\n",
    "scale_sim_list = [x for x in scale_sim_list if x[0][0]<x[0][1]]\n",
    "\n",
    "# 5. chcemy by mapowanie indeks-chembl dla sparse_fp i dla bin/scale_sim było takie samo\n",
    "constraints_mapping = get_mapping(all_compounds_file=chembl_ids_file) # digit: chembl_id\n",
    "fp_mapping = bidict(zip(row_labels, range(len(row_labels))))\n",
    "\n",
    "constraints_2_fp_mapping = bidict([])\n",
    "for chembl_id in row_labels:\n",
    "    constraints_2_fp_mapping[constraints_mapping.inv[chembl_id]] = fp_mapping[chembl_id]\n",
    "\n",
    "bin_sim_list = [((constraints_2_fp_mapping[x[0][0]], constraints_2_fp_mapping[x[0][1]]), x[1]) for x in bin_sim_list]\n",
    "scale_sim_list = [((constraints_2_fp_mapping[x[0][0]], constraints_2_fp_mapping[x[0][1]]), x[1]) for x in scale_sim_list]\n",
    "\n",
    "# 6. podział więzów na foldy\n",
    "y_train, y_test = train_test_split(bin_sim_list, train_size=0.8, random_state=random_state)\n",
    "# 343 - train, 86 - test "
   ]
  },
  {
   "cell_type": "code",
   "execution_count": 3,
   "metadata": {
    "collapsed": false
   },
   "outputs": [],
   "source": [
    "# define score\n",
    "def my_binary_score(labels_true, labels_pred):\n",
    "    # labels true: ((x_i, x_j), sim(x_i, x_j))\n",
    "    # labels_pred: list\n",
    "    true, pred = np.array(labels_true), np.array(labels_pred)\n",
    "    diffs = 0\n",
    "    for ((idx_1, idx_2), sim_true) in labels_true:\n",
    "        if labels_pred[idx_1] == labels_pred[idx_2]:\n",
    "            diffs = diffs + (np.absolute(sim_true-1.))\n",
    "        else:\n",
    "            diffs = diffs + (np.absolute(sim_true-0.))\n",
    "    return diffs/len(labels_true)"
   ]
  },
  {
   "cell_type": "code",
   "execution_count": 4,
   "metadata": {
    "collapsed": false
   },
   "outputs": [],
   "source": [
    "# define model (this is rather not needed)\n",
    "# class KMeans_SCFP(KMeans):\n",
    "#     def score():\n",
    "#         pass\n",
    "    \n",
    "# check_estimator(KMeans_SCFP)"
   ]
  },
  {
   "cell_type": "code",
   "execution_count": 7,
   "metadata": {
    "collapsed": false
   },
   "outputs": [],
   "source": [
    "# define models and hiperparameters\n",
    "hiperparameters = [{'n_clusters':1, 'init':'k-means++', 'n_init':1},\n",
    "                   {'n_clusters':2, 'init':'k-means++', 'n_init':1},\n",
    "                   {'n_clusters':3, 'init':'k-means++', 'n_init':1},\n",
    "                   {'n_clusters':4, 'init':'k-means++', 'n_init':1},\n",
    "                   {'n_clusters':5, 'init':'k-means++', 'n_init':1},\n",
    "                   {'n_clusters':6, 'init':'k-means++', 'n_init':1},\n",
    "                   {'n_clusters':7, 'init':'k-means++', 'n_init':1},\n",
    "                   {'n_clusters':8, 'init':'k-means++', 'n_init':1},\n",
    "                   {'n_clusters':9, 'init':'k-means++', 'n_init':1},\n",
    "                   {'n_clusters':10, 'init':'k-means++', 'n_init':1}]\n"
   ]
  },
  {
   "cell_type": "code",
   "execution_count": 8,
   "metadata": {
    "collapsed": false
   },
   "outputs": [
    {
     "name": "stdout",
     "output_type": "stream",
     "text": [
      "{\"{'init': 'k-means++', 'n_init': 1, 'n_clusters': 7}\": 1.1411078717201166, \"{'init': 'k-means++', 'n_init': 1, 'n_clusters': 4}\": 1.3667638483965017, \"{'init': 'k-means++', 'n_init': 1, 'n_clusters': 5}\": 1.1889212827988338, \"{'init': 'k-means++', 'n_init': 1, 'n_clusters': 8}\": 1.068804664723032, \"{'init': 'k-means++', 'n_init': 1, 'n_clusters': 9}\": 1.082798833819242, \"{'init': 'k-means++', 'n_init': 1, 'n_clusters': 2}\": 1.5551020408163265, \"{'init': 'k-means++', 'n_init': 1, 'n_clusters': 3}\": 1.4816326530612245, \"{'init': 'k-means++', 'n_init': 1, 'n_clusters': 1}\": 1.7317784256559769, \"{'init': 'k-means++', 'n_init': 1, 'n_clusters': 10}\": 1.0466472303207, \"{'init': 'k-means++', 'n_init': 1, 'n_clusters': 6}\": 1.1959183673469389}\n"
     ]
    }
   ],
   "source": [
    "# define experiment\n",
    "X = sprase_fp.toarray()\n",
    "results = {}\n",
    "for hips in hiperparameters:\n",
    "    scores = []\n",
    "    for i in range(5):\n",
    "        model = KMeans(**hips)\n",
    "        model.fit(X)\n",
    "        predictions = model.predict(X)\n",
    "        scores.append(my_binary_score(y_train, predictions))\n",
    "    results[str(hips)]=np.mean(scores)\n",
    "    \n",
    "print results"
   ]
  },
  {
   "cell_type": "code",
   "execution_count": null,
   "metadata": {
    "collapsed": true
   },
   "outputs": [],
   "source": []
  }
 ],
 "metadata": {
  "anaconda-cloud": {},
  "kernelspec": {
   "display_name": "Python [conda root]",
   "language": "python",
   "name": "conda-root-py"
  },
  "language_info": {
   "codemirror_mode": {
    "name": "ipython",
    "version": 2
   },
   "file_extension": ".py",
   "mimetype": "text/x-python",
   "name": "python",
   "nbconvert_exporter": "python",
   "pygments_lexer": "ipython2",
   "version": "2.7.12"
  }
 },
 "nbformat": 4,
 "nbformat_minor": 1
}
