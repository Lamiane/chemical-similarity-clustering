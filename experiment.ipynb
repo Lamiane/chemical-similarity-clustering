{
 "cells": [
  {
   "cell_type": "code",
   "execution_count": 91,
   "metadata": {
    "collapsed": false
   },
   "outputs": [],
   "source": [
    "# imports\n",
    "import drgmum\n",
    "from drgmum.toolkit.dataset import SmartDataset\n",
    "from drgmum.chemdata.fingerprints import molprint2d_count_fingerprinter\n",
    "from drgmum.chemdata.chembl.sqlite_queries import get_smiles\n",
    "from drgmum.chemdata.utils.pandas_utils import two_level_series_to_csr\n",
    "import logging\n",
    "logging.basicConfig()\n",
    "import os\n",
    "data_folder = '/var/data/users/local/pocha/data'\n",
    "chembl21db = os.path.join(data_folder, 'DRGMUM/chembl_21.db')\n",
    "chembl_ids_file = os.path.join(data_folder, 'SCFP/Random_compounds_100.sdf')\n",
    "similarity_matrix_file = os.path.join(data_folder, 'SCFP/Similarity150Dawid.csv')\n",
    "folder_with_pairs = os.path.join(data_folder, 'SCFP/pairs')\n",
    "from load_constraints import get_chembls, load_similarity_matrices, get_mapping\n",
    "from sklearn.base import BaseEstimator, ClusterMixin\n",
    "from sklearn.cluster import KMeans\n",
    "from sklearn.utils.estimator_checks import check_estimator\n",
    "from sklearn.model_selection import train_test_split\n",
    "random_state = 666"
   ]
  },
  {
   "cell_type": "code",
   "execution_count": 86,
   "metadata": {
    "collapsed": false
   },
   "outputs": [
    {
     "name": "stderr",
     "output_type": "stream",
     "text": [
      "INFO:drgmum.chemdata.chembl.sqlite_queries:Extracting SMILES from the database...\n",
      "INFO:drgmum.chemdata.chembl.sqlite_queries:Done\n",
      "INFO:drgmum.chemdata.fingerprints._openbabel:Processing 100 SMILES...\n",
      "100it [00:00, 321402.61it/s]\n",
      "645it [00:00, 479923.02it/s]\n",
      "100%|██████████| 2144/2144 [00:00<00:00, 312535.63it/s]"
     ]
    },
    {
     "name": "stdout",
     "output_type": "stream",
     "text": [
      "21 pairs were omitted\n"
     ]
    },
    {
     "name": "stderr",
     "output_type": "stream",
     "text": [
      "\n"
     ]
    }
   ],
   "source": [
    "# load data\n",
    "\n",
    "# 1. load chembl IDs\n",
    "chembl_ids = get_chembls(chembl_ids_file)\n",
    "smiles = get_smiles(chembl21db, chembl_ids)\n",
    "\n",
    "# 2. load fingerprints\n",
    "a = molprint2d_count_fingerprinter(smiles) # nieważne\n",
    "sprase_fp, row_labels, col_labels = two_level_series_to_csr(a)\n",
    "\n",
    "# 3. load constraints\n",
    "bin_sim, scale_sim, mapping_idx_chembl = load_similarity_matrices(similarity_matrix_file, chembl_ids_file, folder_with_pairs)\n",
    "bin_sim_list = zip(zip(*bin_sim.nonzero()), bin_sim.data)\n",
    "scale_sim_list = zip(zip(*scale_sim.nonzero()), scale_sim.data)\n",
    "\n",
    "# 4. remove contraints that are duplicate (sim(x,y)=sim(y,x)) or\n",
    "bin_sim_list = [x for x in bin_sim_list if x[0][0]<x[0][1]]\n",
    "scale_sim_list = [x for x in scale_sim_list if x[0][0]<x[0][1]]\n",
    "\n",
    "# 5. podział więzów na foldy\n",
    "y_train, y_test = train_test_split(bin_sim_list, train_size=0.8, random_state=random_state)\n",
    "# 343 - train, 86 - test "
   ]
  },
  {
   "cell_type": "code",
   "execution_count": 92,
   "metadata": {
    "collapsed": false
   },
   "outputs": [
    {
     "name": "stdout",
     "output_type": "stream",
     "text": [
      "bidict({0: 'CHEMBL426317', 1: 'CHEMBL261489', 2: 'CHEMBL201454', 3: 'CHEMBL475407', 4: 'CHEMBL273173', 5: 'CHEMBL567791', 6: 'CHEMBL300835', 7: 'CHEMBL299498', 8: 'CHEMBL428879', 9: 'CHEMBL598443', 10: 'CHEMBL289436', 11: 'CHEMBL59584', 12: 'CHEMBL255802', 13: 'CHEMBL1629810', 14: 'CHEMBL1278202', 15: 'CHEMBL472789', 16: 'CHEMBL223468', 17: 'CHEMBL261490', 18: 'CHEMBL534', 19: 'CHEMBL263881', 20: 'CHEMBL19215', 21: 'CHEMBL55914', 22: 'CHEMBL475778', 23: 'CHEMBL2059590', 24: 'CHEMBL41389', 25: 'CHEMBL629', 26: 'CHEMBL371300', 27: 'CHEMBL53308', 28: 'CHEMBL305275', 29: 'CHEMBL220900', 30: 'CHEMBL215468', 31: 'CHEMBL2087337', 32: 'CHEMBL201930', 33: 'CHEMBL14563', 34: 'CHEMBL76307', 35: 'CHEMBL590078', 36: 'CHEMBL157138', 37: 'CHEMBL42', 38: 'CHEMBL206845', 39: 'CHEMBL590483', 40: 'CHEMBL297784', 41: 'CHEMBL88894', 42: 'CHEMBL2323579', 43: 'CHEMBL1214830', 44: 'CHEMBL220207', 45: 'CHEMBL76301', 46: 'CHEMBL2110371', 47: 'CHEMBL280465', 48: 'CHEMBL417082', 49: 'CHEMBL209324', 50: 'CHEMBL1214961', 51: 'CHEMBL2397893', 52: 'CHEMBL2165137', 53: 'CHEMBL728', 54: 'CHEMBL437314', 55: 'CHEMBL514967', 56: 'CHEMBL708', 57: 'CHEMBL76781', 58: 'CHEMBL14841', 59: 'CHEMBL148463', 60: 'CHEMBL2337494', 61: 'CHEMBL364534', 62: 'CHEMBL14401', 63: 'CHEMBL2392349', 64: 'CHEMBL2165126', 65: 'CHEMBL1255837', 66: 'CHEMBL1277837', 67: 'CHEMBL57135', 68: 'CHEMBL2397911', 69: 'CHEMBL1333512', 70: 'CHEMBL215380', 71: 'CHEMBL21343', 72: 'CHEMBL358522', 73: 'CHEMBL478', 74: 'CHEMBL416896', 75: 'CHEMBL14374', 76: 'CHEMBL472986', 77: 'CHEMBL472415', 78: 'CHEMBL55472', 79: 'CHEMBL445809', 80: 'CHEMBL12314', 81: 'CHEMBL1112', 82: 'CHEMBL212228', 83: 'CHEMBL492916', 84: 'CHEMBL1078745', 85: 'CHEMBL219837', 86: 'CHEMBL2337501', 87: 'CHEMBL14076', 88: 'CHEMBL385577', 89: 'CHEMBL569251', 90: 'CHEMBL55335', 91: 'CHEMBL41792', 92: 'CHEMBL223272', 93: 'CHEMBL2397914', 94: 'CHEMBL1215036', 95: 'CHEMBL54484', 96: 'CHEMBL1909072', 97: 'CHEMBL2413154', 98: 'CHEMBL222514', 99: 'CHEMBL190124'})\n"
     ]
    }
   ],
   "source": [
    "# chcemy by mapowanie indeks-chembl dla sparse_fp i dla bin/scale_sim było takie samo\n",
    "constraints_mapping = get_mapping(all_compounds_file=chembl_ids_file)\n",
    "print constraints_mapping"
   ]
  },
  {
   "cell_type": "code",
   "execution_count": null,
   "metadata": {
    "collapsed": true
   },
   "outputs": [],
   "source": [
    "# define score\n",
    "def my_score(labels_true, labels_pred):\n",
    "    # labels true: ((x_i, x_j), sim(x_i, x_j))\n",
    "    # labels_pred: list\n",
    "    true, pred = np.array(labels_true), np.array(labels_pred)\n",
    "    "
   ]
  },
  {
   "cell_type": "code",
   "execution_count": 76,
   "metadata": {
    "collapsed": false
   },
   "outputs": [],
   "source": [
    "# define model (this is rather not needed)\n",
    "# class KMeans_SCFP(KMeans):\n",
    "#     def score():\n",
    "#         pass\n",
    "    \n",
    "# check_estimator(KMeans_SCFP)"
   ]
  },
  {
   "cell_type": "code",
   "execution_count": null,
   "metadata": {
    "collapsed": true
   },
   "outputs": [],
   "source": [
    "# define models and hiperparameters\n",
    "\n"
   ]
  },
  {
   "cell_type": "code",
   "execution_count": null,
   "metadata": {
    "collapsed": true
   },
   "outputs": [],
   "source": [
    "# define experiment\n",
    "\n",
    "results = {}\n",
    "for hips in hiperparameters:\n",
    "    scores = []\n",
    "    for i in range(5):\n",
    "        model = KMeans(**hips)\n",
    "        model.fit(X)\n",
    "        predictions = model.predict(X)\n",
    "        scores.append(scoring(y_train, predictions))\n",
    "    results[str(hips)]=np.mean(scores)"
   ]
  }
 ],
 "metadata": {
  "anaconda-cloud": {},
  "kernelspec": {
   "display_name": "Python [conda root]",
   "language": "python",
   "name": "conda-root-py"
  },
  "language_info": {
   "codemirror_mode": {
    "name": "ipython",
    "version": 2
   },
   "file_extension": ".py",
   "mimetype": "text/x-python",
   "name": "python",
   "nbconvert_exporter": "python",
   "pygments_lexer": "ipython2",
   "version": "2.7.12"
  }
 },
 "nbformat": 4,
 "nbformat_minor": 1
}
