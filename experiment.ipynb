{
 "cells": [
  {
   "cell_type": "code",
   "execution_count": null,
   "metadata": {
    "collapsed": false
   },
   "outputs": [],
   "source": [
    "# imports\n",
    "import drgmum\n",
    "from drgmum.toolkit.dataset import SmartDataset\n",
    "from drgmum.chemdata.fingerprints import molprint2d_count_fingerprinter\n",
    "from drgmum.chemdata.chembl.sqlite_queries import get_smiles\n",
    "from drgmum.chemdata.utils.pandas_utils import two_level_series_to_csr\n",
    "import logging\n",
    "logging.basicConfig()\n",
    "import os\n",
    "data_folder = '/var/data/users/local/pocha/data'\n",
    "chembl21db = os.path.join(data_folder, 'DRGMUM/chembl_21.db')\n",
    "chembl_ids_file = os.path.join(data_folder, 'SCFP/Random_compounds_100.sdf')\n",
    "similarity_matrix_file = os.path.join(data_folder, 'SCFP/Similarity150Dawid.csv')\n",
    "folder_with_pairs = os.path.join(data_folder, 'SCFP/pairs')\n",
    "from load_constraints import get_chembls, load_similarity_matrices, get_mapping\n",
    "from sklearn.base import BaseEstimator, ClusterMixin\n",
    "from sklearn.cluster import KMeans\n",
    "from sklearn.utils.estimator_checks import check_estimator\n",
    "from sklearn.model_selection import train_test_split\n",
    "random_state = 666\n",
    "from bidict import bidict\n",
    "import numpy as np\n",
    "from itertools import product"
   ]
  },
  {
   "cell_type": "code",
   "execution_count": null,
   "metadata": {
    "collapsed": false
   },
   "outputs": [],
   "source": [
    "# load data\n",
    "\n",
    "# 1. load chembl IDs\n",
    "chembl_ids = get_chembls(chembl_ids_file)\n",
    "smiles = get_smiles(chembl21db, chembl_ids)\n",
    "\n",
    "# 2. load fingerprints\n",
    "a = molprint2d_count_fingerprinter(smiles) # nieważne\n",
    "sprase_fp, row_labels, col_labels = two_level_series_to_csr(a)\n",
    "\n",
    "# 3. load constraints\n",
    "bin_sim, scale_sim, mapping_idx_chembl = load_similarity_matrices(similarity_matrix_file, chembl_ids_file, folder_with_pairs)\n",
    "bin_sim_list = zip(zip(*bin_sim.nonzero()), bin_sim.data)\n",
    "scale_sim_list = zip(zip(*scale_sim.nonzero()), scale_sim.data)\n",
    "\n",
    "# 4. remove contraints that are duplicate (sim(x,y)=sim(y,x)) or\n",
    "bin_sim_list = [x for x in bin_sim_list if x[0][0]<x[0][1]]\n",
    "scale_sim_list = [x for x in scale_sim_list if x[0][0]<x[0][1]]\n",
    "\n",
    "# 5. chcemy by mapowanie indeks-chembl dla sparse_fp i dla bin/scale_sim było takie samo\n",
    "constraints_mapping = get_mapping(all_compounds_file=chembl_ids_file) # digit: chembl_id\n",
    "fp_mapping = bidict(zip(row_labels, range(len(row_labels))))\n",
    "\n",
    "constraints_2_fp_mapping = bidict([])\n",
    "for chembl_id in row_labels:\n",
    "    constraints_2_fp_mapping[constraints_mapping.inv[chembl_id]] = fp_mapping[chembl_id]\n",
    "\n",
    "bin_sim_list = [((constraints_2_fp_mapping[x[0][0]], constraints_2_fp_mapping[x[0][1]]), x[1]) for x in bin_sim_list]\n",
    "scale_sim_list = [((constraints_2_fp_mapping[x[0][0]], constraints_2_fp_mapping[x[0][1]]), x[1]) for x in scale_sim_list]\n",
    "\n",
    "# 6. podział więzów na foldy\n",
    "y_train, y_test = train_test_split(bin_sim_list, train_size=0.8, random_state=random_state)\n",
    "# 343 - train, 86 - test \n",
    "\n",
    "# 7. just for convenience\n",
    "X = sprase_fp.toarray()"
   ]
  },
  {
   "cell_type": "code",
   "execution_count": null,
   "metadata": {
    "collapsed": false
   },
   "outputs": [],
   "source": [
    "# define score\n",
    "def my_binary_score(labels_true, labels_pred):\n",
    "    # labels true: ((x_i, x_j), sim(x_i, x_j))\n",
    "    # labels_pred: list\n",
    "    true, pred = np.array(labels_true), np.array(labels_pred)\n",
    "    diffs = 0\n",
    "    for ((idx_1, idx_2), sim_true) in labels_true:\n",
    "        if labels_pred[idx_1] == labels_pred[idx_2]:\n",
    "            diffs = diffs + (np.absolute(sim_true-1.))\n",
    "        else:\n",
    "            diffs = diffs + (np.absolute(sim_true-0.))\n",
    "    return diffs/len(labels_true)"
   ]
  },
  {
   "cell_type": "code",
   "execution_count": null,
   "metadata": {
    "collapsed": false
   },
   "outputs": [],
   "source": [
    "# define model (this is rather not needed)\n",
    "# class KMeans_SCFP(KMeans):\n",
    "#     def score():\n",
    "#         pass\n",
    "    \n",
    "# check_estimator(KMeans_SCFP)"
   ]
  },
  {
   "cell_type": "code",
   "execution_count": 3,
   "metadata": {
    "collapsed": false
   },
   "outputs": [],
   "source": [
    "# define models and hiperparameters\n",
    "# KMEANS\n",
    "n_clusters = list(range(1, 11))\n",
    "init =['k-means++', 'random']\n",
    "n_init = [1]\n",
    "algorithm = ['full', 'elkan']\n",
    "hiperparameters = [{'n_clusters':nc, 'init':init_, 'n_init':ninit, 'algorithm':alg} \n",
    "                   for nc in n_clusters for init_ in init for ninit in n_init for alg in algorithm]\n"
   ]
  },
  {
   "cell_type": "code",
   "execution_count": 4,
   "metadata": {
    "collapsed": true
   },
   "outputs": [],
   "source": [
    "# FILE CONTENT\n",
    "# read cv_iteration.py"
   ]
  },
  {
   "cell_type": "code",
   "execution_count": 5,
   "metadata": {
    "collapsed": true
   },
   "outputs": [],
   "source": [
    "def runner(script_name, script_params, **kwargs):\n",
    "    # Assumes script is wrapped in src.script_wrapper\n",
    "    import os\n",
    "    script_params['base_fname'] = os.path.join(kwargs['_job_output_dir'], kwargs['_job_key'])\n",
    "\n",
    "    cmd = \"{} {}\".format(script_name, \" \".join(\n",
    "        \"--{} {}\".format(k, v) for k, v in script_params.iteritems()))\n",
    "\n",
    "    # Return stderr. Flushing it because it contains logs\n",
    "    from drgmum.toolkit.utils import exec_command\n",
    "    _, stderr, ret = exec_command(cmd, flush_stdout=False, flush_stderr=True)\n",
    "    if ret != 0:\n",
    "        raise RuntimeError(\"Failed running cmd\")"
   ]
  },
  {
   "cell_type": "code",
   "execution_count": null,
   "metadata": {
    "collapsed": false
   },
   "outputs": [],
   "source": [
    "# define experiment\n",
    "from drgmum.toolkit.job_pool import JobPool, dict_hash\n",
    "from drgmum.toolkit import burrito\n",
    "job_pool = JobPool(n_jobs=10, output_dir='KMEANS')\n",
    "jobs = [{\"script_name\": \"/home/pocha/chemical-similarity-clustering/cv_iteration.py\", \"script_params\": h} for h in hiperparameters]\n",
    "\n",
    "# CO TO SĄ TE KLUCZE????!?!?!??!@!!!\n",
    "keys = [dict_hash(j[\"script_params\"]) for j in jobs]\n",
    "job_pool.map(runner, jobs, keys)\n"
   ]
  },
  {
   "cell_type": "code",
   "execution_count": null,
   "metadata": {
    "collapsed": true
   },
   "outputs": [],
   "source": []
  }
 ],
 "metadata": {
  "anaconda-cloud": {},
  "kernelspec": {
   "display_name": "Python [conda root]",
   "language": "python",
   "name": "conda-root-py"
  },
  "language_info": {
   "codemirror_mode": {
    "name": "ipython",
    "version": 2
   },
   "file_extension": ".py",
   "mimetype": "text/x-python",
   "name": "python",
   "nbconvert_exporter": "python",
   "pygments_lexer": "ipython2",
   "version": "2.7.12"
  }
 },
 "nbformat": 4,
 "nbformat_minor": 1
}
